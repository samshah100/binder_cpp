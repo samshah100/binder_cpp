{
 "cells": [
  {
   "cell_type": "markdown",
   "metadata": {},
   "source": [
    "Demonstration of input, output and data types in C++"
   ]
  },
  {
   "cell_type": "markdown",
   "metadata": {},
   "source": [
    "# Programs from Lecture 4 of CS 106A"
   ]
  },
  {
   "cell_type": "markdown",
   "metadata": {},
   "source": [
    "## First C++ program"
   ]
  },
  {
   "cell_type": "markdown",
   "metadata": {},
   "source": [
    "Exercise: Write a program to print \"Hello, World!\""
   ]
  },
  {
   "cell_type": "code",
   "execution_count": 33,
   "metadata": {},
   "outputs": [
    {
     "name": "stdout",
     "output_type": "stream",
     "text": [
      "Hello, World!\n"
     ]
    }
   ],
   "source": [
    "#include <iostream>\n",
    "using namespace std;\n",
    "cout << \"Hello, World!\" << endl;"
   ]
  },
  {
   "cell_type": "markdown",
   "metadata": {},
   "source": [
    "Exercise: Write a program to print \"Hello, World!\" 5 times"
   ]
  },
  {
   "cell_type": "code",
   "execution_count": 2,
   "metadata": {},
   "outputs": [
    {
     "name": "stdout",
     "output_type": "stream",
     "text": [
      "Hello, World!\n",
      "Hello, World!\n",
      "Hello, World!\n",
      "Hello, World!\n",
      "Hello, World!\n"
     ]
    }
   ],
   "source": [
    "for (int i =0; i < 5; i++) {\n",
    "    cout << \"Hello, World!\" << endl;\n",
    "}"
   ]
  },
  {
   "cell_type": "markdown",
   "metadata": {},
   "source": [
    "## Data Types"
   ]
  },
  {
   "cell_type": "markdown",
   "metadata": {},
   "source": [
    "### Integers"
   ]
  },
  {
   "cell_type": "code",
   "execution_count": 3,
   "metadata": {},
   "outputs": [
    {
     "data": {
      "text/plain": [
       "5"
      ]
     },
     "execution_count": 3,
     "metadata": {},
     "output_type": "execute_result"
    }
   ],
   "source": [
    "5"
   ]
  },
  {
   "cell_type": "markdown",
   "metadata": {},
   "source": [
    "As seen from this output, when expressions are evaluated, the value of the expression is printed if ; is omitted at the end of the statement"
   ]
  },
  {
   "cell_type": "markdown",
   "metadata": {},
   "source": [
    "### Expressions, Operators"
   ]
  },
  {
   "cell_type": "code",
   "execution_count": 4,
   "metadata": {},
   "outputs": [
    {
     "data": {
      "text/plain": [
       "21"
      ]
     },
     "execution_count": 4,
     "metadata": {},
     "output_type": "execute_result"
    }
   ],
   "source": [
    "1 + 4 * 5"
   ]
  },
  {
   "cell_type": "markdown",
   "metadata": {},
   "source": [
    "# Integer division (/)"
   ]
  },
  {
   "cell_type": "markdown",
   "metadata": {},
   "source": [
    "When we divide integers, the quotient is also an integer."
   ]
  },
  {
   "cell_type": "code",
   "execution_count": 5,
   "metadata": {},
   "outputs": [
    {
     "data": {
      "text/plain": [
       "3"
      ]
     },
     "execution_count": 5,
     "metadata": {},
     "output_type": "execute_result"
    }
   ],
   "source": [
    "14 / 4"
   ]
  },
  {
   "cell_type": "markdown",
   "metadata": {},
   "source": [
    "14/4 is 3, not 3.5 (C++ always rounds down)"
   ]
  },
  {
   "cell_type": "markdown",
   "metadata": {},
   "source": [
    "Division by 0 causes an error when your program runs"
   ]
  },
  {
   "cell_type": "code",
   "execution_count": 6,
   "metadata": {},
   "outputs": [
    {
     "name": "stderr",
     "output_type": "stream",
     "text": [
      "input_line_18:2:4: warning: division by zero is undefined [-Wdivision-by-zero]\n",
      " 14/0\n",
      "   ^~\n"
     ]
    },
    {
     "data": {
      "text/plain": [
       "0"
      ]
     },
     "execution_count": 6,
     "metadata": {},
     "output_type": "execute_result"
    }
   ],
   "source": [
    "14/0"
   ]
  },
  {
   "cell_type": "markdown",
   "metadata": {},
   "source": [
    "# Integer Remainder (%)"
   ]
  },
  {
   "cell_type": "markdown",
   "metadata": {},
   "source": [
    "The % operator computes the remainder from integer division"
   ]
  },
  {
   "cell_type": "code",
   "execution_count": 7,
   "metadata": {},
   "outputs": [
    {
     "data": {
      "text/plain": [
       "2"
      ]
     },
     "execution_count": 7,
     "metadata": {},
     "output_type": "execute_result"
    }
   ],
   "source": [
    "14 % 4"
   ]
  },
  {
   "cell_type": "markdown",
   "metadata": {},
   "source": [
    "## Applications of % Operator"
   ]
  },
  {
   "cell_type": "markdown",
   "metadata": {},
   "source": [
    "### Obtain last digit of a number, 230857"
   ]
  },
  {
   "cell_type": "code",
   "execution_count": 8,
   "metadata": {},
   "outputs": [
    {
     "data": {
      "text/plain": [
       "7"
      ]
     },
     "execution_count": 8,
     "metadata": {},
     "output_type": "execute_result"
    }
   ],
   "source": [
    "230857 % 10"
   ]
  },
  {
   "cell_type": "markdown",
   "metadata": {},
   "source": [
    "### Obtain last four digits of a number, 658236489"
   ]
  },
  {
   "cell_type": "code",
   "execution_count": 9,
   "metadata": {},
   "outputs": [
    {
     "data": {
      "text/plain": [
       "6489"
      ]
     },
     "execution_count": 9,
     "metadata": {},
     "output_type": "execute_result"
    }
   ],
   "source": [
    "658236489 % 10000"
   ]
  },
  {
   "cell_type": "markdown",
   "metadata": {},
   "source": [
    "### See whether a number is odd (7 and 6)"
   ]
  },
  {
   "cell_type": "code",
   "execution_count": 10,
   "metadata": {},
   "outputs": [
    {
     "data": {
      "text/plain": [
       "1"
      ]
     },
     "execution_count": 10,
     "metadata": {},
     "output_type": "execute_result"
    }
   ],
   "source": [
    "7 % 2  // Even number"
   ]
  },
  {
   "cell_type": "code",
   "execution_count": 11,
   "metadata": {},
   "outputs": [
    {
     "data": {
      "text/plain": [
       "0"
      ]
     },
     "execution_count": 11,
     "metadata": {},
     "output_type": "execute_result"
    }
   ],
   "source": [
    "6 % 2  // odd number"
   ]
  },
  {
   "cell_type": "markdown",
   "metadata": {},
   "source": [
    "### Function to test if a number is even or odd"
   ]
  },
  {
   "cell_type": "code",
   "execution_count": 12,
   "metadata": {},
   "outputs": [],
   "source": [
    "bool isodd(int a) {\n",
    "    return a % 2;\n",
    "}\n"
   ]
  },
  {
   "cell_type": "code",
   "execution_count": 13,
   "metadata": {},
   "outputs": [
    {
     "data": {
      "text/plain": [
       "true"
      ]
     },
     "execution_count": 13,
     "metadata": {},
     "output_type": "execute_result"
    }
   ],
   "source": [
    "isodd(7)"
   ]
  },
  {
   "cell_type": "code",
   "execution_count": 14,
   "metadata": {},
   "outputs": [
    {
     "data": {
      "text/plain": [
       "false"
      ]
     },
     "execution_count": 14,
     "metadata": {},
     "output_type": "execute_result"
    }
   ],
   "source": [
    "isodd(6)"
   ]
  },
  {
   "cell_type": "code",
   "execution_count": 15,
   "metadata": {},
   "outputs": [],
   "source": [
    "bool iseven(int a) {\n",
    "    return !(a % 2);\n",
    "}"
   ]
  },
  {
   "cell_type": "code",
   "execution_count": 16,
   "metadata": {},
   "outputs": [
    {
     "data": {
      "text/plain": [
       "true"
      ]
     },
     "execution_count": 16,
     "metadata": {},
     "output_type": "execute_result"
    }
   ],
   "source": [
    "iseven(6)"
   ]
  },
  {
   "cell_type": "code",
   "execution_count": 17,
   "metadata": {},
   "outputs": [
    {
     "data": {
      "text/plain": [
       "false"
      ]
     },
     "execution_count": 17,
     "metadata": {},
     "output_type": "execute_result"
    }
   ],
   "source": [
    "iseven(7)"
   ]
  },
  {
   "cell_type": "markdown",
   "metadata": {},
   "source": [
    "## Strings"
   ]
  },
  {
   "cell_type": "markdown",
   "metadata": {},
   "source": [
    "### String concatenation\n",
    "The + operator can be used between strings to add them together to make a new string. This is called concatenation:"
   ]
  },
  {
   "cell_type": "code",
   "execution_count": 18,
   "metadata": {},
   "outputs": [
    {
     "name": "stdout",
     "output_type": "stream",
     "text": [
      "John Doe"
     ]
    }
   ],
   "source": [
    "#include <string>  \n",
    "string firstName = \"John \";\n",
    "string lastName = \"Doe\";\n",
    "string fullName = firstName + lastName;\n",
    "cout << fullName;"
   ]
  },
  {
   "cell_type": "markdown",
   "metadata": {},
   "source": [
    "In the example above, we added a space after firstName to create a space between John and Doe on output. However, you could also add a space with quotes (\" \" or ' '):"
   ]
  },
  {
   "cell_type": "code",
   "execution_count": 19,
   "metadata": {},
   "outputs": [
    {
     "name": "stdout",
     "output_type": "stream",
     "text": [
      "John Doe"
     ]
    }
   ],
   "source": [
    "#include <string>  \n",
    "string firstName1 = \"John\";\n",
    "string lastName1 = \"Doe\";\n",
    "string fullName1 = firstName1 + \" \" + lastName1;\n",
    "cout << fullName1;"
   ]
  },
  {
   "cell_type": "code",
   "execution_count": 20,
   "metadata": {},
   "outputs": [
    {
     "data": {
      "text/plain": [
       "\"hello42\""
      ]
     },
     "execution_count": 20,
     "metadata": {},
     "output_type": "execute_result"
    }
   ],
   "source": [
    "\"hello\" + to_string(42)"
   ]
  },
  {
   "cell_type": "markdown",
   "metadata": {},
   "source": [
    "Question: Why doesn't the following work?"
   ]
  },
  {
   "cell_type": "code",
   "execution_count": 21,
   "metadata": {},
   "outputs": [
    {
     "name": "stderr",
     "output_type": "stream",
     "text": [
      "input_line_48:2:20: error: invalid operands to binary expression ('const char *' and 'const char *')\n",
      " cout << \"Hello, \" + \"World\" << endl;\n",
      "         ~~~~~~~~~ ^ ~~~~~~~\n"
     ]
    },
    {
     "ename": "Interpreter Error",
     "evalue": "",
     "output_type": "error",
     "traceback": [
      "Interpreter Error: "
     ]
    }
   ],
   "source": [
    "#include <string>\n",
    "cout << \"Hello, \" + \"World\" << endl;"
   ]
  },
  {
   "cell_type": "markdown",
   "metadata": {},
   "source": [
    "### String Append\n",
    "A string in C++ is actually an object, which contain functions that can perform certain operations on strings. For example, you can also concatenate strings with the append() function:"
   ]
  },
  {
   "cell_type": "code",
   "execution_count": 22,
   "metadata": {},
   "outputs": [
    {
     "name": "stdout",
     "output_type": "stream",
     "text": [
      "John Doe"
     ]
    }
   ],
   "source": [
    "string firstName2 = \"John \";\n",
    "string lastName2 = \"Doe\";\n",
    "string fullName2 = firstName2.append(lastName2);\n",
    "cout << fullName2;"
   ]
  },
  {
   "cell_type": "markdown",
   "metadata": {},
   "source": [
    "### Application of string concatenation in printing strings\n",
    "Use + to print a string and an expression's value together"
   ]
  },
  {
   "cell_type": "code",
   "execution_count": 23,
   "metadata": {},
   "outputs": [
    {
     "name": "stdout",
     "output_type": "stream",
     "text": [
      "Average: 83.500000\n"
     ]
    }
   ],
   "source": [
    "cout << \"Average: \" + to_string((95.1 + 71.9)/2) << endl;"
   ]
  },
  {
   "cell_type": "code",
   "execution_count": 24,
   "metadata": {},
   "outputs": [
    {
     "name": "stdout",
     "output_type": "stream",
     "text": [
      "num: 10\n"
     ]
    }
   ],
   "source": [
    "int num = 10;\n",
    "cout << \"num: \" + to_string(num) << endl;"
   ]
  },
  {
   "cell_type": "markdown",
   "metadata": {},
   "source": [
    "## Variables"
   ]
  },
  {
   "cell_type": "markdown",
   "metadata": {},
   "source": [
    "### Exercise: Write a program to calculate the meal cost, tax and tip"
   ]
  },
  {
   "cell_type": "code",
   "execution_count": 25,
   "metadata": {},
   "outputs": [],
   "source": [
    "int subtotal = 38 + 40 + 30;\n",
    "double tax = subtotal * 0.08;\n",
    "double tip = subtotal * 0.15;"
   ]
  },
  {
   "cell_type": "code",
   "execution_count": 26,
   "metadata": {},
   "outputs": [
    {
     "name": "stdout",
     "output_type": "stream",
     "text": [
      "Subtotal: 108\n",
      "Tax: 8.640000\n",
      "Tip: 16.200000\n",
      "Total: 132.840000\n"
     ]
    }
   ],
   "source": [
    "cout << \"Subtotal: \" + to_string(subtotal) << endl;\n",
    "cout << \"Tax: \" + to_string(tax) << endl;\n",
    "cout << \"Tip: \" + to_string(tip) << endl;\n",
    "cout << \"Total: \" + to_string(subtotal + tax + tip) << endl;"
   ]
  },
  {
   "cell_type": "markdown",
   "metadata": {},
   "source": [
    "When expressions are evaluated, the value of the expression is printed if ; is omitted at the end of the statement"
   ]
  },
  {
   "cell_type": "code",
   "execution_count": 27,
   "metadata": {},
   "outputs": [
    {
     "data": {
      "text/plain": [
       "15.0000f"
      ]
     },
     "execution_count": 27,
     "metadata": {},
     "output_type": "execute_result"
    }
   ],
   "source": [
    "float num1 = 5.0;\n",
    "float num2 = 10.0;\n",
    "float sum;\n",
    "sum = num1 + num2"
   ]
  },
  {
   "cell_type": "markdown",
   "metadata": {},
   "source": [
    "## Interactive Programs: Getting User Input"
   ]
  },
  {
   "cell_type": "code",
   "execution_count": 35,
   "metadata": {},
   "outputs": [],
   "source": [
    "float my_num;"
   ]
  },
  {
   "cell_type": "code",
   "execution_count": 36,
   "metadata": {},
   "outputs": [
    {
     "name": "stdout",
     "output_type": "stream",
     "text": [
      "Enter a number: \n"
     ]
    }
   ],
   "source": [
    "cout << \"Enter a number: \" << endl;"
   ]
  },
  {
   "cell_type": "code",
   "execution_count": 37,
   "metadata": {},
   "outputs": [
    {
     "name": "stderr",
     "output_type": "stream",
     "text": [
      "input_line_66:2:6: error: invalid operands to binary expression ('std::istream' (aka 'basic_istream<char>') and 'float')\n",
      " cin >> my_num;\n",
      " ~~~ ^  ~~~~~~\n",
      "/srv/conda/envs/notebook/bin/../lib/gcc/x86_64-conda_cos6-linux-gnu/7.3.0/../../../../x86_64-conda_cos6-linux-gnu/include/c++/7.3.0/istream:120:7: note: candidate function not viable: no known conversion from 'float' to 'std::basic_istream<char, std::char_traits<char> >::__istream_type &(*)(std::basic_istream<char, std::char_traits<char> >::__istream_type &)' (aka 'basic_istream<char, std::char_traits<char> > &(*)(basic_istream<char, std::char_traits<char> > &)') for 1st argument\n",
      "      operator>>(__istream_type& (*__pf)(__istream_type&))\n",
      "      ^\n",
      "/srv/conda/envs/notebook/bin/../lib/gcc/x86_64-conda_cos6-linux-gnu/7.3.0/../../../../x86_64-conda_cos6-linux-gnu/include/c++/7.3.0/istream:124:7: note: candidate function not viable: no known conversion from 'float' to 'std::basic_istream<char, std::char_traits<char> >::__ios_type &(*)(std::basic_istream<char, std::char_traits<char> >::__ios_type &)' (aka 'basic_ios<char, std::char_traits<char> > &(*)(basic_ios<char, std::char_traits<char> > &)') for 1st argument\n",
      "      operator>>(__ios_type& (*__pf)(__ios_type&))\n",
      "      ^\n",
      "/srv/conda/envs/notebook/bin/../lib/gcc/x86_64-conda_cos6-linux-gnu/7.3.0/../../../../x86_64-conda_cos6-linux-gnu/include/c++/7.3.0/istream:131:7: note: candidate function not viable: no known conversion from 'float' to 'std::ios_base &(*)(std::ios_base &)' for 1st argument\n",
      "      operator>>(ios_base& (*__pf)(ios_base&))\n",
      "      ^\n",
      "/srv/conda/envs/notebook/bin/../lib/gcc/x86_64-conda_cos6-linux-gnu/7.3.0/../../../../x86_64-conda_cos6-linux-gnu/include/c++/7.3.0/istream:168:7: note: candidate function not viable: no known conversion from 'float' to 'bool &' for 1st argument\n",
      "      operator>>(bool& __n)\n",
      "      ^\n",
      "/srv/conda/envs/notebook/bin/../lib/gcc/x86_64-conda_cos6-linux-gnu/7.3.0/../../../../x86_64-conda_cos6-linux-gnu/include/c++/7.3.0/istream:172:7: note: candidate function not viable: no known conversion from 'float' to 'short &' for 1st argument\n",
      "      operator>>(short& __n);\n",
      "      ^\n",
      "/srv/conda/envs/notebook/bin/../lib/gcc/x86_64-conda_cos6-linux-gnu/7.3.0/../../../../x86_64-conda_cos6-linux-gnu/include/c++/7.3.0/istream:175:7: note: candidate function not viable: no known conversion from 'float' to 'unsigned short &' for 1st argument\n",
      "      operator>>(unsigned short& __n)\n",
      "      ^\n",
      "/srv/conda/envs/notebook/bin/../lib/gcc/x86_64-conda_cos6-linux-gnu/7.3.0/../../../../x86_64-conda_cos6-linux-gnu/include/c++/7.3.0/istream:179:7: note: candidate function not viable: no known conversion from 'float' to 'int &' for 1st argument\n",
      "      operator>>(int& __n);\n",
      "      ^\n",
      "/srv/conda/envs/notebook/bin/../lib/gcc/x86_64-conda_cos6-linux-gnu/7.3.0/../../../../x86_64-conda_cos6-linux-gnu/include/c++/7.3.0/istream:182:7: note: candidate function not viable: no known conversion from 'float' to 'unsigned int &' for 1st argument\n",
      "      operator>>(unsigned int& __n)\n",
      "      ^\n",
      "/srv/conda/envs/notebook/bin/../lib/gcc/x86_64-conda_cos6-linux-gnu/7.3.0/../../../../x86_64-conda_cos6-linux-gnu/include/c++/7.3.0/istream:186:7: note: candidate function not viable: no known conversion from 'float' to 'long &' for 1st argument\n",
      "      operator>>(long& __n)\n",
      "      ^\n",
      "/srv/conda/envs/notebook/bin/../lib/gcc/x86_64-conda_cos6-linux-gnu/7.3.0/../../../../x86_64-conda_cos6-linux-gnu/include/c++/7.3.0/istream:190:7: note: candidate function not viable: no known conversion from 'float' to 'unsigned long &' for 1st argument\n",
      "      operator>>(unsigned long& __n)\n",
      "      ^\n",
      "/srv/conda/envs/notebook/bin/../lib/gcc/x86_64-conda_cos6-linux-gnu/7.3.0/../../../../x86_64-conda_cos6-linux-gnu/include/c++/7.3.0/istream:195:7: note: candidate function not viable: no known conversion from 'float' to 'long long &' for 1st argument\n",
      "      operator>>(long long& __n)\n",
      "      ^\n",
      "/srv/conda/envs/notebook/bin/../lib/gcc/x86_64-conda_cos6-linux-gnu/7.3.0/../../../../x86_64-conda_cos6-linux-gnu/include/c++/7.3.0/istream:199:7: note: candidate function not viable: no known conversion from 'float' to 'unsigned long long &' for 1st argument\n",
      "      operator>>(unsigned long long& __n)\n",
      "      ^\n",
      "/srv/conda/envs/notebook/bin/../lib/gcc/x86_64-conda_cos6-linux-gnu/7.3.0/../../../../x86_64-conda_cos6-linux-gnu/include/c++/7.3.0/istream:218:7: note: candidate function not viable: no known conversion from 'float' to 'double &' for 1st argument\n",
      "      operator>>(double& __f)\n",
      "      ^\n",
      "/srv/conda/envs/notebook/bin/../lib/gcc/x86_64-conda_cos6-linux-gnu/7.3.0/../../../../x86_64-conda_cos6-linux-gnu/include/c++/7.3.0/istream:222:7: note: candidate function not viable: no known conversion from 'float' to 'long double &' for 1st argument\n",
      "      operator>>(long double& __f)\n",
      "      ^\n",
      "/srv/conda/envs/notebook/bin/../lib/gcc/x86_64-conda_cos6-linux-gnu/7.3.0/../../../../x86_64-conda_cos6-linux-gnu/include/c++/7.3.0/istream:235:7: note: candidate function not viable: no known conversion from 'float' to 'void *&' for 1st argument\n",
      "      operator>>(void*& __p)\n",
      "      ^\n",
      "/srv/conda/envs/notebook/bin/../lib/gcc/x86_64-conda_cos6-linux-gnu/7.3.0/../../../../x86_64-conda_cos6-linux-gnu/include/c++/7.3.0/istream:259:7: note: candidate function not viable: no known conversion from 'float' to 'std::basic_istream<char, std::char_traits<char> >::__streambuf_type *' (aka 'basic_streambuf<char, std::char_traits<char> > *') for 1st argument\n",
      "      operator>>(__streambuf_type* __sb);\n",
      "      ^\n",
      "/srv/conda/envs/notebook/bin/../lib/gcc/x86_64-conda_cos6-linux-gnu/7.3.0/../../../../x86_64-conda_cos6-linux-gnu/include/c++/7.3.0/istream:756:5: note: candidate function not viable: no known conversion from 'float' to 'unsigned char &' for 2nd argument\n",
      "    operator>>(basic_istream<char, _Traits>& __in, unsigned char& __c)\n",
      "    ^\n",
      "/srv/conda/envs/notebook/bin/../lib/gcc/x86_64-conda_cos6-linux-gnu/7.3.0/../../../../x86_64-conda_cos6-linux-gnu/include/c++/7.3.0/istream:761:5: note: candidate function not viable: no known conversion from 'float' to 'signed char &' for 2nd argument\n",
      "    operator>>(basic_istream<char, _Traits>& __in, signed char& __c)\n",
      "    ^\n",
      "/srv/conda/envs/notebook/bin/../lib/gcc/x86_64-conda_cos6-linux-gnu/7.3.0/../../../../x86_64-conda_cos6-linux-gnu/include/c++/7.3.0/istream:803:5: note: candidate function not viable: no known conversion from 'float' to 'unsigned char *' for 2nd argument\n",
      "    operator>>(basic_istream<char, _Traits>& __in, unsigned char* __s)\n",
      "    ^\n",
      "/srv/conda/envs/notebook/bin/../lib/gcc/x86_64-conda_cos6-linux-gnu/7.3.0/../../../../x86_64-conda_cos6-linux-gnu/include/c++/7.3.0/istream:808:5: note: candidate function not viable: no known conversion from 'float' to 'signed char *' for 2nd argument\n",
      "    operator>>(basic_istream<char, _Traits>& __in, signed char* __s)\n",
      "    ^\n",
      "/srv/conda/envs/notebook/bin/../lib/gcc/x86_64-conda_cos6-linux-gnu/7.3.0/../../../../x86_64-conda_cos6-linux-gnu/include/c++/7.3.0/iomanip:71:5: note: candidate function not viable: no known conversion from 'float' to 'std::_Resetiosflags' for 2nd argument\n",
      "    operator>>(basic_istream<_CharT, _Traits>& __is, _Resetiosflags __f)\n",
      "    ^\n",
      "/srv/conda/envs/notebook/bin/../lib/gcc/x86_64-conda_cos6-linux-gnu/7.3.0/../../../../x86_64-conda_cos6-linux-gnu/include/c++/7.3.0/iomanip:101:5: note: candidate function not viable: no known conversion from 'float' to 'std::_Setiosflags' for 2nd argument\n",
      "    operator>>(basic_istream<_CharT, _Traits>& __is, _Setiosflags __f)\n",
      "    ^\n",
      "/srv/conda/envs/notebook/bin/../lib/gcc/x86_64-conda_cos6-linux-gnu/7.3.0/../../../../x86_64-conda_cos6-linux-gnu/include/c++/7.3.0/iomanip:132:5: note: candidate function not viable: no known conversion from 'float' to 'std::_Setbase' for 2nd argument\n",
      "    operator>>(basic_istream<_CharT, _Traits>& __is, _Setbase __f)\n",
      "    ^\n",
      "/srv/conda/envs/notebook/bin/../lib/gcc/x86_64-conda_cos6-linux-gnu/7.3.0/../../../../x86_64-conda_cos6-linux-gnu/include/c++/7.3.0/iomanip:200:5: note: candidate function not viable: no known conversion from 'float' to 'std::_Setprecision' for 2nd argument\n",
      "    operator>>(basic_istream<_CharT, _Traits>& __is, _Setprecision __f)\n",
      "    ^\n",
      "/srv/conda/envs/notebook/bin/../lib/gcc/x86_64-conda_cos6-linux-gnu/7.3.0/../../../../x86_64-conda_cos6-linux-gnu/include/c++/7.3.0/iomanip:230:5: note: candidate function not viable: no known conversion from 'float' to 'std::_Setw' for 2nd argument\n",
      "    operator>>(basic_istream<_CharT, _Traits>& __is, _Setw __f)\n",
      "    ^\n",
      "/srv/conda/envs/notebook/bin/../lib/gcc/x86_64-conda_cos6-linux-gnu/7.3.0/../../../../x86_64-conda_cos6-linux-gnu/include/c++/7.3.0/bits/istream.tcc:931:5: note: candidate template ignored: deduced conflicting types for parameter '_CharT' ('char' vs. 'float')\n",
      "    operator>>(basic_istream<_CharT, _Traits>& __in, _CharT& __c)\n",
      "    ^\n",
      "/srv/conda/envs/notebook/bin/../lib/gcc/x86_64-conda_cos6-linux-gnu/7.3.0/../../../../x86_64-conda_cos6-linux-gnu/include/c++/7.3.0/streambuf:168:9: note: candidate template ignored: could not match 'basic_string<type-parameter-0-0, type-parameter-0-1, type-parameter-0-2>' against 'float'\n",
      "        operator>>(basic_istream<_CharT2, _Traits2>&,\n",
      "        ^\n",
      "/srv/conda/envs/notebook/bin/../lib/gcc/x86_64-conda_cos6-linux-gnu/7.3.0/../../../../x86_64-conda_cos6-linux-gnu/include/c++/7.3.0/bits/valarray_after.h:411:5: note: candidate template ignored: could not match '_Expr' against 'basic_istream'\n",
      "    _DEFINE_EXPR_BINARY_OPERATOR(>>, __shift_right)\n",
      "    ^\n",
      "/srv/conda/envs/notebook/bin/../lib/gcc/x86_64-conda_cos6-linux-gnu/7.3.0/../../../../x86_64-conda_cos6-linux-gnu/include/c++/7.3.0/bits/valarray_after.h:341:5: note: expanded from macro '_DEFINE_EXPR_BINARY_OPERATOR'\n",
      "    operator _Op(const _Expr<_Dom1, typename _Dom1::value_type>& __v,   \\\n",
      "    ^\n",
      "/srv/conda/envs/notebook/bin/../lib/gcc/x86_64-conda_cos6-linux-gnu/7.3.0/../../../../x86_64-conda_cos6-linux-gnu/include/c++/7.3.0/bits/valarray_after.h:411:5: note: candidate template ignored: could not match '_Expr' against 'basic_istream'\n",
      "/srv/conda/envs/notebook/bin/../lib/gcc/x86_64-conda_cos6-linux-gnu/7.3.0/../../../../x86_64-conda_cos6-linux-gnu/include/c++/7.3.0/bits/valarray_after.h:354:5: note: expanded from macro '_DEFINE_EXPR_BINARY_OPERATOR'\n",
      "    operator _Op(const _Expr<_Dom, typename _Dom::value_type>& __v,     \\\n",
      "    ^\n",
      "/srv/conda/envs/notebook/bin/../lib/gcc/x86_64-conda_cos6-linux-gnu/7.3.0/../../../../x86_64-conda_cos6-linux-gnu/include/c++/7.3.0/bits/valarray_after.h:411:5: note: candidate template ignored: could not match '_Expr<type-parameter-0-0, typename type-parameter-0-0::value_type>' against 'float'\n",
      "/srv/conda/envs/notebook/bin/../lib/gcc/x86_64-conda_cos6-linux-gnu/7.3.0/../../../../x86_64-conda_cos6-linux-gnu/include/c++/7.3.0/bits/valarray_after.h:367:5: note: expanded from macro '_DEFINE_EXPR_BINARY_OPERATOR'\n",
      "    operator _Op(const typename _Dom::value_type& __t,                  \\\n",
      "    ^\n",
      "/srv/conda/envs/notebook/bin/../lib/gcc/x86_64-conda_cos6-linux-gnu/7.3.0/../../../../x86_64-conda_cos6-linux-gnu/include/c++/7.3.0/bits/valarray_after.h:411:5: note: candidate template ignored: could not match '_Expr' against 'basic_istream'\n",
      "/srv/conda/envs/notebook/bin/../lib/gcc/x86_64-conda_cos6-linux-gnu/7.3.0/../../../../x86_64-conda_cos6-linux-gnu/include/c++/7.3.0/bits/valarray_after.h:380:5: note: expanded from macro '_DEFINE_EXPR_BINARY_OPERATOR'\n",
      "    operator _Op(const _Expr<_Dom,typename _Dom::value_type>& __e,      \\\n",
      "    ^\n",
      "/srv/conda/envs/notebook/bin/../lib/gcc/x86_64-conda_cos6-linux-gnu/7.3.0/../../../../x86_64-conda_cos6-linux-gnu/include/c++/7.3.0/bits/valarray_after.h:411:5: note: candidate template ignored: could not match '_Expr<type-parameter-0-0, typename type-parameter-0-0::value_type>' against 'float'\n",
      "/srv/conda/envs/notebook/bin/../lib/gcc/x86_64-conda_cos6-linux-gnu/7.3.0/../../../../x86_64-conda_cos6-linux-gnu/include/c++/7.3.0/bits/valarray_after.h:393:5: note: expanded from macro '_DEFINE_EXPR_BINARY_OPERATOR'\n",
      "    operator _Op(const valarray<typename _Dom::value_type>& __v,        \\\n",
      "    ^\n",
      "/srv/conda/envs/notebook/bin/../lib/gcc/x86_64-conda_cos6-linux-gnu/7.3.0/../../../../x86_64-conda_cos6-linux-gnu/include/c++/7.3.0/valarray:1181:1: note: candidate template ignored: could not match 'valarray' against 'basic_istream'\n",
      "_DEFINE_BINARY_OPERATOR(>>, __shift_right)\n",
      "^\n",
      "/srv/conda/envs/notebook/bin/../lib/gcc/x86_64-conda_cos6-linux-gnu/7.3.0/../../../../x86_64-conda_cos6-linux-gnu/include/c++/7.3.0/valarray:1144:5: note: expanded from macro '_DEFINE_BINARY_OPERATOR'\n",
      "    operator _Op(const valarray<_Tp>& __v, const valarray<_Tp>& __w)    \\\n",
      "    ^\n",
      "/srv/conda/envs/notebook/bin/../lib/gcc/x86_64-conda_cos6-linux-gnu/7.3.0/../../../../x86_64-conda_cos6-linux-gnu/include/c++/7.3.0/valarray:1181:1: note: candidate template ignored: could not match 'valarray' against 'basic_istream'\n",
      "/srv/conda/envs/notebook/bin/../lib/gcc/x86_64-conda_cos6-linux-gnu/7.3.0/../../../../x86_64-conda_cos6-linux-gnu/include/c++/7.3.0/valarray:1155:5: note: expanded from macro '_DEFINE_BINARY_OPERATOR'\n",
      "    operator _Op(const valarray<_Tp>& __v, const _Tp& __t)              \\\n",
      "    ^\n",
      "/srv/conda/envs/notebook/bin/../lib/gcc/x86_64-conda_cos6-linux-gnu/7.3.0/../../../../x86_64-conda_cos6-linux-gnu/include/c++/7.3.0/valarray:1181:1: note: candidate template ignored: could not match 'valarray<type-parameter-0-0>' against 'float'\n",
      "/srv/conda/envs/notebook/bin/../lib/gcc/x86_64-conda_cos6-linux-gnu/7.3.0/../../../../x86_64-conda_cos6-linux-gnu/include/c++/7.3.0/valarray:1165:5: note: expanded from macro '_DEFINE_BINARY_OPERATOR'\n",
      "    operator _Op(const _Tp& __t, const valarray<_Tp>& __v)              \\\n",
      "    ^\n",
      "/srv/conda/envs/notebook/bin/../lib/gcc/x86_64-conda_cos6-linux-gnu/7.3.0/../../../../x86_64-conda_cos6-linux-gnu/include/c++/7.3.0/iomanip:170:5: note: candidate template ignored: could not match '_Setfill<type-parameter-0-0>' against 'float'\n",
      "    operator>>(basic_istream<_CharT, _Traits>& __is, _Setfill<_CharT> __f)\n",
      "    ^\n",
      "/srv/conda/envs/notebook/bin/../lib/gcc/x86_64-conda_cos6-linux-gnu/7.3.0/../../../../x86_64-conda_cos6-linux-gnu/include/c++/7.3.0/iomanip:264:5: note: candidate template ignored: could not match '_Get_money<type-parameter-0-2>' against 'float'\n",
      "    operator>>(basic_istream<_CharT, _Traits>& __is, _Get_money<_MoneyT> __f)\n",
      "    ^\n",
      "/srv/conda/envs/notebook/bin/../lib/gcc/x86_64-conda_cos6-linux-gnu/7.3.0/../../../../x86_64-conda_cos6-linux-gnu/include/c++/7.3.0/iomanip:418:5: note: candidate template ignored: could not match '_Get_time<type-parameter-0-0>' against 'float'\n",
      "    operator>>(basic_istream<_CharT, _Traits>& __is, _Get_time<_CharT> __f)\n",
      "    ^\n",
      "/srv/conda/envs/notebook/bin/../lib/gcc/x86_64-conda_cos6-linux-gnu/7.3.0/../../../../x86_64-conda_cos6-linux-gnu/include/c++/7.3.0/istream:980:5: note: candidate template ignored: requirement '__and_<__not_<is_lvalue_reference<basic_istream<char> &> >, __is_convertible_to_basic_istream<basic_istream<char> &>, __is_extractable<__rvalue_istream_type<basic_istream<char> &>, float &&> >::value' was not satisfied [with _Istream = std::basic_istream<char> &, _Tp = float &]\n",
      "    operator>>(_Istream&& __is, _Tp&& __x)\n",
      "    ^\n",
      "/srv/conda/envs/notebook/bin/../lib/gcc/x86_64-conda_cos6-linux-gnu/7.3.0/../../../../x86_64-conda_cos6-linux-gnu/include/c++/7.3.0/bits/istream.tcc:963:5: note: candidate template ignored: could not match '_CharT *' against 'float'\n",
      "    operator>>(basic_istream<_CharT, _Traits>& __in, _CharT* __s)\n",
      "    ^\n"
     ]
    },
    {
     "ename": "Interpreter Error",
     "evalue": "",
     "output_type": "error",
     "traceback": [
      "Interpreter Error: "
     ]
    }
   ],
   "source": [
    "cin >> my_num;"
   ]
  },
  {
   "cell_type": "code",
   "execution_count": 38,
   "metadata": {},
   "outputs": [],
   "source": [
    "int i;"
   ]
  },
  {
   "cell_type": "code",
   "execution_count": 39,
   "metadata": {},
   "outputs": [
    {
     "name": "stdout",
     "output_type": "stream",
     "text": [
      "5\n"
     ]
    }
   ],
   "source": [
    "cin >> i;"
   ]
  },
  {
   "cell_type": "code",
   "execution_count": 40,
   "metadata": {},
   "outputs": [
    {
     "data": {
      "text/plain": [
       "5"
      ]
     },
     "execution_count": 40,
     "metadata": {},
     "output_type": "execute_result"
    }
   ],
   "source": [
    "i"
   ]
  },
  {
   "cell_type": "code",
   "execution_count": 43,
   "metadata": {},
   "outputs": [],
   "source": [
    "double my_dbl;"
   ]
  },
  {
   "cell_type": "code",
   "execution_count": 45,
   "metadata": {},
   "outputs": [
    {
     "name": "stderr",
     "output_type": "stream",
     "text": [
      "input_line_75:2:6: error: invalid operands to binary expression ('std::istream' (aka 'basic_istream<char>') and 'double')\n",
      " cin >> my_dbl;\n",
      " ~~~ ^  ~~~~~~\n",
      "/srv/conda/envs/notebook/bin/../lib/gcc/x86_64-conda_cos6-linux-gnu/7.3.0/../../../../x86_64-conda_cos6-linux-gnu/include/c++/7.3.0/istream:120:7: note: candidate function not viable: no known conversion from 'double' to 'std::basic_istream<char, std::char_traits<char> >::__istream_type &(*)(std::basic_istream<char, std::char_traits<char> >::__istream_type &)' (aka 'basic_istream<char, std::char_traits<char> > &(*)(basic_istream<char, std::char_traits<char> > &)') for 1st argument\n",
      "      operator>>(__istream_type& (*__pf)(__istream_type&))\n",
      "      ^\n",
      "/srv/conda/envs/notebook/bin/../lib/gcc/x86_64-conda_cos6-linux-gnu/7.3.0/../../../../x86_64-conda_cos6-linux-gnu/include/c++/7.3.0/istream:124:7: note: candidate function not viable: no known conversion from 'double' to 'std::basic_istream<char, std::char_traits<char> >::__ios_type &(*)(std::basic_istream<char, std::char_traits<char> >::__ios_type &)' (aka 'basic_ios<char, std::char_traits<char> > &(*)(basic_ios<char, std::char_traits<char> > &)') for 1st argument\n",
      "      operator>>(__ios_type& (*__pf)(__ios_type&))\n",
      "      ^\n",
      "/srv/conda/envs/notebook/bin/../lib/gcc/x86_64-conda_cos6-linux-gnu/7.3.0/../../../../x86_64-conda_cos6-linux-gnu/include/c++/7.3.0/istream:131:7: note: candidate function not viable: no known conversion from 'double' to 'std::ios_base &(*)(std::ios_base &)' for 1st argument\n",
      "      operator>>(ios_base& (*__pf)(ios_base&))\n",
      "      ^\n",
      "/srv/conda/envs/notebook/bin/../lib/gcc/x86_64-conda_cos6-linux-gnu/7.3.0/../../../../x86_64-conda_cos6-linux-gnu/include/c++/7.3.0/istream:168:7: note: candidate function not viable: no known conversion from 'double' to 'bool &' for 1st argument\n",
      "      operator>>(bool& __n)\n",
      "      ^\n",
      "/srv/conda/envs/notebook/bin/../lib/gcc/x86_64-conda_cos6-linux-gnu/7.3.0/../../../../x86_64-conda_cos6-linux-gnu/include/c++/7.3.0/istream:172:7: note: candidate function not viable: no known conversion from 'double' to 'short &' for 1st argument\n",
      "      operator>>(short& __n);\n",
      "      ^\n",
      "/srv/conda/envs/notebook/bin/../lib/gcc/x86_64-conda_cos6-linux-gnu/7.3.0/../../../../x86_64-conda_cos6-linux-gnu/include/c++/7.3.0/istream:175:7: note: candidate function not viable: no known conversion from 'double' to 'unsigned short &' for 1st argument\n",
      "      operator>>(unsigned short& __n)\n",
      "      ^\n",
      "/srv/conda/envs/notebook/bin/../lib/gcc/x86_64-conda_cos6-linux-gnu/7.3.0/../../../../x86_64-conda_cos6-linux-gnu/include/c++/7.3.0/istream:179:7: note: candidate function not viable: no known conversion from 'double' to 'int &' for 1st argument\n",
      "      operator>>(int& __n);\n",
      "      ^\n",
      "/srv/conda/envs/notebook/bin/../lib/gcc/x86_64-conda_cos6-linux-gnu/7.3.0/../../../../x86_64-conda_cos6-linux-gnu/include/c++/7.3.0/istream:182:7: note: candidate function not viable: no known conversion from 'double' to 'unsigned int &' for 1st argument\n",
      "      operator>>(unsigned int& __n)\n",
      "      ^\n",
      "/srv/conda/envs/notebook/bin/../lib/gcc/x86_64-conda_cos6-linux-gnu/7.3.0/../../../../x86_64-conda_cos6-linux-gnu/include/c++/7.3.0/istream:186:7: note: candidate function not viable: no known conversion from 'double' to 'long &' for 1st argument\n",
      "      operator>>(long& __n)\n",
      "      ^\n",
      "/srv/conda/envs/notebook/bin/../lib/gcc/x86_64-conda_cos6-linux-gnu/7.3.0/../../../../x86_64-conda_cos6-linux-gnu/include/c++/7.3.0/istream:190:7: note: candidate function not viable: no known conversion from 'double' to 'unsigned long &' for 1st argument\n",
      "      operator>>(unsigned long& __n)\n",
      "      ^\n",
      "/srv/conda/envs/notebook/bin/../lib/gcc/x86_64-conda_cos6-linux-gnu/7.3.0/../../../../x86_64-conda_cos6-linux-gnu/include/c++/7.3.0/istream:195:7: note: candidate function not viable: no known conversion from 'double' to 'long long &' for 1st argument\n",
      "      operator>>(long long& __n)\n",
      "      ^\n",
      "/srv/conda/envs/notebook/bin/../lib/gcc/x86_64-conda_cos6-linux-gnu/7.3.0/../../../../x86_64-conda_cos6-linux-gnu/include/c++/7.3.0/istream:199:7: note: candidate function not viable: no known conversion from 'double' to 'unsigned long long &' for 1st argument\n",
      "      operator>>(unsigned long long& __n)\n",
      "      ^\n",
      "/srv/conda/envs/notebook/bin/../lib/gcc/x86_64-conda_cos6-linux-gnu/7.3.0/../../../../x86_64-conda_cos6-linux-gnu/include/c++/7.3.0/istream:222:7: note: candidate function not viable: no known conversion from 'double' to 'long double &' for 1st argument\n",
      "      operator>>(long double& __f)\n",
      "      ^\n",
      "/srv/conda/envs/notebook/bin/../lib/gcc/x86_64-conda_cos6-linux-gnu/7.3.0/../../../../x86_64-conda_cos6-linux-gnu/include/c++/7.3.0/istream:235:7: note: candidate function not viable: no known conversion from 'double' to 'void *&' for 1st argument\n",
      "      operator>>(void*& __p)\n",
      "      ^\n",
      "/srv/conda/envs/notebook/bin/../lib/gcc/x86_64-conda_cos6-linux-gnu/7.3.0/../../../../x86_64-conda_cos6-linux-gnu/include/c++/7.3.0/istream:259:7: note: candidate function not viable: no known conversion from 'double' to 'std::basic_istream<char, std::char_traits<char> >::__streambuf_type *' (aka 'basic_streambuf<char, std::char_traits<char> > *') for 1st argument\n",
      "      operator>>(__streambuf_type* __sb);\n",
      "      ^\n",
      "/srv/conda/envs/notebook/bin/../lib/gcc/x86_64-conda_cos6-linux-gnu/7.3.0/../../../../x86_64-conda_cos6-linux-gnu/include/c++/7.3.0/istream:756:5: note: candidate function not viable: no known conversion from 'double' to 'unsigned char &' for 2nd argument\n",
      "    operator>>(basic_istream<char, _Traits>& __in, unsigned char& __c)\n",
      "    ^\n",
      "/srv/conda/envs/notebook/bin/../lib/gcc/x86_64-conda_cos6-linux-gnu/7.3.0/../../../../x86_64-conda_cos6-linux-gnu/include/c++/7.3.0/istream:761:5: note: candidate function not viable: no known conversion from 'double' to 'signed char &' for 2nd argument\n",
      "    operator>>(basic_istream<char, _Traits>& __in, signed char& __c)\n",
      "    ^\n",
      "/srv/conda/envs/notebook/bin/../lib/gcc/x86_64-conda_cos6-linux-gnu/7.3.0/../../../../x86_64-conda_cos6-linux-gnu/include/c++/7.3.0/istream:803:5: note: candidate function not viable: no known conversion from 'double' to 'unsigned char *' for 2nd argument\n",
      "    operator>>(basic_istream<char, _Traits>& __in, unsigned char* __s)\n",
      "    ^\n",
      "/srv/conda/envs/notebook/bin/../lib/gcc/x86_64-conda_cos6-linux-gnu/7.3.0/../../../../x86_64-conda_cos6-linux-gnu/include/c++/7.3.0/istream:808:5: note: candidate function not viable: no known conversion from 'double' to 'signed char *' for 2nd argument\n",
      "    operator>>(basic_istream<char, _Traits>& __in, signed char* __s)\n",
      "    ^\n",
      "/srv/conda/envs/notebook/bin/../lib/gcc/x86_64-conda_cos6-linux-gnu/7.3.0/../../../../x86_64-conda_cos6-linux-gnu/include/c++/7.3.0/iomanip:71:5: note: candidate function not viable: no known conversion from 'double' to 'std::_Resetiosflags' for 2nd argument\n",
      "    operator>>(basic_istream<_CharT, _Traits>& __is, _Resetiosflags __f)\n",
      "    ^\n",
      "/srv/conda/envs/notebook/bin/../lib/gcc/x86_64-conda_cos6-linux-gnu/7.3.0/../../../../x86_64-conda_cos6-linux-gnu/include/c++/7.3.0/iomanip:101:5: note: candidate function not viable: no known conversion from 'double' to 'std::_Setiosflags' for 2nd argument\n",
      "    operator>>(basic_istream<_CharT, _Traits>& __is, _Setiosflags __f)\n",
      "    ^\n",
      "/srv/conda/envs/notebook/bin/../lib/gcc/x86_64-conda_cos6-linux-gnu/7.3.0/../../../../x86_64-conda_cos6-linux-gnu/include/c++/7.3.0/iomanip:132:5: note: candidate function not viable: no known conversion from 'double' to 'std::_Setbase' for 2nd argument\n",
      "    operator>>(basic_istream<_CharT, _Traits>& __is, _Setbase __f)\n",
      "    ^\n",
      "/srv/conda/envs/notebook/bin/../lib/gcc/x86_64-conda_cos6-linux-gnu/7.3.0/../../../../x86_64-conda_cos6-linux-gnu/include/c++/7.3.0/iomanip:200:5: note: candidate function not viable: no known conversion from 'double' to 'std::_Setprecision' for 2nd argument\n",
      "    operator>>(basic_istream<_CharT, _Traits>& __is, _Setprecision __f)\n",
      "    ^\n",
      "/srv/conda/envs/notebook/bin/../lib/gcc/x86_64-conda_cos6-linux-gnu/7.3.0/../../../../x86_64-conda_cos6-linux-gnu/include/c++/7.3.0/iomanip:230:5: note: candidate function not viable: no known conversion from 'double' to 'std::_Setw' for 2nd argument\n",
      "    operator>>(basic_istream<_CharT, _Traits>& __is, _Setw __f)\n",
      "    ^\n",
      "/srv/conda/envs/notebook/bin/../lib/gcc/x86_64-conda_cos6-linux-gnu/7.3.0/../../../../x86_64-conda_cos6-linux-gnu/include/c++/7.3.0/bits/istream.tcc:931:5: note: candidate template ignored: deduced conflicting types for parameter '_CharT' ('char' vs. 'double')\n",
      "    operator>>(basic_istream<_CharT, _Traits>& __in, _CharT& __c)\n",
      "    ^\n",
      "/srv/conda/envs/notebook/bin/../lib/gcc/x86_64-conda_cos6-linux-gnu/7.3.0/../../../../x86_64-conda_cos6-linux-gnu/include/c++/7.3.0/streambuf:168:9: note: candidate template ignored: could not match 'basic_string<type-parameter-0-0, type-parameter-0-1, type-parameter-0-2>' against 'double'\n",
      "        operator>>(basic_istream<_CharT2, _Traits2>&,\n",
      "        ^\n",
      "/srv/conda/envs/notebook/bin/../lib/gcc/x86_64-conda_cos6-linux-gnu/7.3.0/../../../../x86_64-conda_cos6-linux-gnu/include/c++/7.3.0/bits/istream.tcc:963:5: note: candidate template ignored: could not match '_CharT *' against 'double'\n",
      "    operator>>(basic_istream<_CharT, _Traits>& __in, _CharT* __s)\n",
      "    ^\n",
      "/srv/conda/envs/notebook/bin/../lib/gcc/x86_64-conda_cos6-linux-gnu/7.3.0/../../../../x86_64-conda_cos6-linux-gnu/include/c++/7.3.0/bits/valarray_after.h:411:5: note: candidate template ignored: could not match '_Expr' against 'basic_istream'\n",
      "    _DEFINE_EXPR_BINARY_OPERATOR(>>, __shift_right)\n",
      "    ^\n",
      "/srv/conda/envs/notebook/bin/../lib/gcc/x86_64-conda_cos6-linux-gnu/7.3.0/../../../../x86_64-conda_cos6-linux-gnu/include/c++/7.3.0/bits/valarray_after.h:341:5: note: expanded from macro '_DEFINE_EXPR_BINARY_OPERATOR'\n",
      "    operator _Op(const _Expr<_Dom1, typename _Dom1::value_type>& __v,   \\\n",
      "    ^\n",
      "/srv/conda/envs/notebook/bin/../lib/gcc/x86_64-conda_cos6-linux-gnu/7.3.0/../../../../x86_64-conda_cos6-linux-gnu/include/c++/7.3.0/bits/valarray_after.h:411:5: note: candidate template ignored: could not match '_Expr' against 'basic_istream'\n",
      "/srv/conda/envs/notebook/bin/../lib/gcc/x86_64-conda_cos6-linux-gnu/7.3.0/../../../../x86_64-conda_cos6-linux-gnu/include/c++/7.3.0/bits/valarray_after.h:354:5: note: expanded from macro '_DEFINE_EXPR_BINARY_OPERATOR'\n",
      "    operator _Op(const _Expr<_Dom, typename _Dom::value_type>& __v,     \\\n",
      "    ^\n",
      "/srv/conda/envs/notebook/bin/../lib/gcc/x86_64-conda_cos6-linux-gnu/7.3.0/../../../../x86_64-conda_cos6-linux-gnu/include/c++/7.3.0/bits/valarray_after.h:411:5: note: candidate template ignored: could not match '_Expr<type-parameter-0-0, typename type-parameter-0-0::value_type>' against 'double'\n",
      "/srv/conda/envs/notebook/bin/../lib/gcc/x86_64-conda_cos6-linux-gnu/7.3.0/../../../../x86_64-conda_cos6-linux-gnu/include/c++/7.3.0/bits/valarray_after.h:367:5: note: expanded from macro '_DEFINE_EXPR_BINARY_OPERATOR'\n",
      "    operator _Op(const typename _Dom::value_type& __t,                  \\\n",
      "    ^\n",
      "/srv/conda/envs/notebook/bin/../lib/gcc/x86_64-conda_cos6-linux-gnu/7.3.0/../../../../x86_64-conda_cos6-linux-gnu/include/c++/7.3.0/bits/valarray_after.h:411:5: note: candidate template ignored: could not match '_Expr' against 'basic_istream'\n",
      "/srv/conda/envs/notebook/bin/../lib/gcc/x86_64-conda_cos6-linux-gnu/7.3.0/../../../../x86_64-conda_cos6-linux-gnu/include/c++/7.3.0/bits/valarray_after.h:380:5: note: expanded from macro '_DEFINE_EXPR_BINARY_OPERATOR'\n",
      "    operator _Op(const _Expr<_Dom,typename _Dom::value_type>& __e,      \\\n",
      "    ^\n",
      "/srv/conda/envs/notebook/bin/../lib/gcc/x86_64-conda_cos6-linux-gnu/7.3.0/../../../../x86_64-conda_cos6-linux-gnu/include/c++/7.3.0/bits/valarray_after.h:411:5: note: candidate template ignored: could not match '_Expr<type-parameter-0-0, typename type-parameter-0-0::value_type>' against 'double'\n",
      "/srv/conda/envs/notebook/bin/../lib/gcc/x86_64-conda_cos6-linux-gnu/7.3.0/../../../../x86_64-conda_cos6-linux-gnu/include/c++/7.3.0/bits/valarray_after.h:393:5: note: expanded from macro '_DEFINE_EXPR_BINARY_OPERATOR'\n",
      "    operator _Op(const valarray<typename _Dom::value_type>& __v,        \\\n",
      "    ^\n",
      "/srv/conda/envs/notebook/bin/../lib/gcc/x86_64-conda_cos6-linux-gnu/7.3.0/../../../../x86_64-conda_cos6-linux-gnu/include/c++/7.3.0/valarray:1181:1: note: candidate template ignored: could not match 'valarray' against 'basic_istream'\n",
      "_DEFINE_BINARY_OPERATOR(>>, __shift_right)\n",
      "^\n",
      "/srv/conda/envs/notebook/bin/../lib/gcc/x86_64-conda_cos6-linux-gnu/7.3.0/../../../../x86_64-conda_cos6-linux-gnu/include/c++/7.3.0/valarray:1144:5: note: expanded from macro '_DEFINE_BINARY_OPERATOR'\n",
      "    operator _Op(const valarray<_Tp>& __v, const valarray<_Tp>& __w)    \\\n",
      "    ^\n",
      "/srv/conda/envs/notebook/bin/../lib/gcc/x86_64-conda_cos6-linux-gnu/7.3.0/../../../../x86_64-conda_cos6-linux-gnu/include/c++/7.3.0/valarray:1181:1: note: candidate template ignored: could not match 'valarray' against 'basic_istream'\n",
      "/srv/conda/envs/notebook/bin/../lib/gcc/x86_64-conda_cos6-linux-gnu/7.3.0/../../../../x86_64-conda_cos6-linux-gnu/include/c++/7.3.0/valarray:1155:5: note: expanded from macro '_DEFINE_BINARY_OPERATOR'\n",
      "    operator _Op(const valarray<_Tp>& __v, const _Tp& __t)              \\\n",
      "    ^\n",
      "/srv/conda/envs/notebook/bin/../lib/gcc/x86_64-conda_cos6-linux-gnu/7.3.0/../../../../x86_64-conda_cos6-linux-gnu/include/c++/7.3.0/valarray:1181:1: note: candidate template ignored: could not match 'valarray<type-parameter-0-0>' against 'double'\n",
      "/srv/conda/envs/notebook/bin/../lib/gcc/x86_64-conda_cos6-linux-gnu/7.3.0/../../../../x86_64-conda_cos6-linux-gnu/include/c++/7.3.0/valarray:1165:5: note: expanded from macro '_DEFINE_BINARY_OPERATOR'\n",
      "    operator _Op(const _Tp& __t, const valarray<_Tp>& __v)              \\\n",
      "    ^\n",
      "/srv/conda/envs/notebook/bin/../lib/gcc/x86_64-conda_cos6-linux-gnu/7.3.0/../../../../x86_64-conda_cos6-linux-gnu/include/c++/7.3.0/iomanip:170:5: note: candidate template ignored: could not match '_Setfill<type-parameter-0-0>' against 'double'\n",
      "    operator>>(basic_istream<_CharT, _Traits>& __is, _Setfill<_CharT> __f)\n",
      "    ^\n",
      "/srv/conda/envs/notebook/bin/../lib/gcc/x86_64-conda_cos6-linux-gnu/7.3.0/../../../../x86_64-conda_cos6-linux-gnu/include/c++/7.3.0/iomanip:264:5: note: candidate template ignored: could not match '_Get_money<type-parameter-0-2>' against 'double'\n",
      "    operator>>(basic_istream<_CharT, _Traits>& __is, _Get_money<_MoneyT> __f)\n",
      "    ^\n",
      "/srv/conda/envs/notebook/bin/../lib/gcc/x86_64-conda_cos6-linux-gnu/7.3.0/../../../../x86_64-conda_cos6-linux-gnu/include/c++/7.3.0/iomanip:418:5: note: candidate template ignored: could not match '_Get_time<type-parameter-0-0>' against 'double'\n",
      "    operator>>(basic_istream<_CharT, _Traits>& __is, _Get_time<_CharT> __f)\n",
      "    ^\n",
      "/srv/conda/envs/notebook/bin/../lib/gcc/x86_64-conda_cos6-linux-gnu/7.3.0/../../../../x86_64-conda_cos6-linux-gnu/include/c++/7.3.0/istream:980:5: note: candidate template ignored: requirement '__and_<__not_<is_lvalue_reference<basic_istream<char> &> >, __is_convertible_to_basic_istream<basic_istream<char> &>, __is_extractable<__rvalue_istream_type<basic_istream<char> &>, double &&> >::value' was not satisfied [with _Istream = std::basic_istream<char> &, _Tp = double &]\n",
      "    operator>>(_Istream&& __is, _Tp&& __x)\n",
      "    ^\n"
     ]
    },
    {
     "ename": "Interpreter Error",
     "evalue": "",
     "output_type": "error",
     "traceback": [
      "Interpreter Error: "
     ]
    }
   ],
   "source": [
    "cin >> my_dbl;"
   ]
  },
  {
   "cell_type": "code",
   "execution_count": null,
   "metadata": {},
   "outputs": [],
   "source": []
  }
 ],
 "metadata": {
  "kernelspec": {
   "display_name": "C++14",
   "language": "C++14",
   "name": "xcpp14"
  },
  "language_info": {
   "codemirror_mode": "text/x-c++src",
   "file_extension": ".cpp",
   "mimetype": "text/x-c++src",
   "name": "c++",
   "version": "14"
  }
 },
 "nbformat": 4,
 "nbformat_minor": 4
}
